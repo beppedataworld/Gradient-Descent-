{
 "cells": [
  {
   "cell_type": "code",
   "execution_count": 1,
   "metadata": {},
   "outputs": [],
   "source": [
    "import matplotlib.pyplot as plt\n",
    "import numpy as np\n",
    "from IPython.display import display, clear_output\n",
    "%matplotlib widget"
   ]
  },
  {
   "cell_type": "code",
   "execution_count": 2,
   "metadata": {},
   "outputs": [],
   "source": [
    "np.random.seed(20)\n",
    "x=5*np.random.random(100)\n",
    "y=2+4*x + np.random.randn(100)\n",
    "\n",
    "b=np.arange(-15,15,0.5)\n",
    "m=np.arange(-2.5,11.5,0.5)\n"
   ]
  },
  {
   "cell_type": "code",
   "execution_count": null,
   "metadata": {},
   "outputs": [],
   "source": [
    "b2,m2=np.meshgrid(b,m)\n",
    "\n",
    "n=len(x)\n",
    "\n",
    "mse=np.zeros([len(m),len(b)])\n",
    "\n",
    "for i in range(len(m)):\n",
    "    for j in range(len(b)):\n",
    "        y_hat=b2[i,j] + m2[i,j]*x\n",
    "        mse[i,j]=1/n*np.sum((y - y_hat)**2)\n",
    "\n",
    "min_val=np.argmin(mse)\n",
    "r,c=np.unravel_index(min_val,mse.shape)\n",
    "\n",
    "print(f\"Lowest MSE loss is: \",{np.min(mse)},\"Best Slope: \", {m2[r][c]},\"Best Intercept: \",{b2[r][c]},sep='\\n')\n",
    "# OUTPUT:"
   ]
  },
  {
   "cell_type": "code",
   "execution_count": null,
   "metadata": {},
   "outputs": [],
   "source": [
    "fig=plt.figure(figsize=(10,5))\n",
    "ax=fig.add_subplot(projection='3d',computed_zorder=False)\n",
    "surf=ax.plot_surface(m2,b2,mse,cmap='gnuplot2')\n",
    "ax.scatter(m2[r,c],b2[r,c],np.min(mse),color='r',marker='x')\n",
    "ax.set_xlabel(\"Slope\")\n",
    "ax.set_ylabel(\"Intercept\")\n",
    "plt.title('MSE as Loss Function')\n",
    "\n",
    "fig.colorbar(surf,shrink=0.8)\n",
    "plt.show()"
   ]
  },
  {
   "cell_type": "code",
   "execution_count": null,
   "metadata": {},
   "outputs": [],
   "source": [
    "#---------------------------------------------------------------#\n",
    "def f(m,b):\n",
    "    points=b+m*x\n",
    "    loss=1/n*np.sum((y-points)**2)\n",
    "    return loss\n",
    "#---------------------------------------------------------------#\n",
    "def grad(m,b):\n",
    "    der_m = -2/n*np.sum(x*(y-(b+m*x)))\n",
    "    der_b = -2/n*np.sum(y-(b+m*x))\n",
    "    grad=np.array([der_m,der_b])\n",
    "    return grad\n",
    "#--------------------------------------------------------------#\n",
    "\n",
    "# Assuming f and grad functions are defined\n",
    "l_rate = 0.01\n",
    "start = np.array([8, 8, f(8, 8)])\n",
    "\n",
    "fig = plt.figure(figsize=(10, 5))\n",
    "ax = fig.add_subplot(projection='3d', computed_zorder=False)\n",
    "\n",
    "for i in range(1000):\n",
    "    m_new = start[0] - l_rate * grad(start[0], start[1])[0]\n",
    "    b_new = start[1] - l_rate * grad(start[0], start[1])[1]\n",
    "    start = np.array([m_new, b_new, f(m_new, b_new)])\n",
    "\n",
    "    ax.clear()  # Clear the plot instead of creating new ones\n",
    "    surf = ax.plot_surface(m2, b2, mse, cmap='gnuplot2')\n",
    "    ax.scatter(m2[r, c], b2[r, c], np.min(mse), color='r', marker='x', label='Lowest Point')\n",
    "    ax.scatter(start[0], start[1], start[2], color='g', marker='o', label='Gradient moving')\n",
    "    \n",
    "    plt.legend()\n",
    "    \n",
    "    clear_output(wait=True)  # Clear the previous frame\n",
    "    display(fig)  # Redisplay the updated figure\n",
    "\n",
    "plt.show()  # Ensure final plot remains visible\n"
   ]
  },
  {
   "cell_type": "code",
   "execution_count": null,
   "metadata": {},
   "outputs": [],
   "source": [
    "print(f\"Now m is: \",{start[0]},\"b is: \",{start[1]}, \"and final loss: \",{start[2]},sep=\"\\n\")"
   ]
  }
 ],
 "metadata": {
  "kernelspec": {
   "display_name": "Python 3",
   "language": "python",
   "name": "python3"
  },
  "language_info": {
   "codemirror_mode": {
    "name": "ipython",
    "version": 3
   },
   "file_extension": ".py",
   "mimetype": "text/x-python",
   "name": "python",
   "nbconvert_exporter": "python",
   "pygments_lexer": "ipython3",
   "version": "3.10.4"
  }
 },
 "nbformat": 4,
 "nbformat_minor": 2
}
